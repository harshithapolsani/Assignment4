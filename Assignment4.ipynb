{
 "cells": [
  {
   "cell_type": "markdown",
   "source": [
    "# Question 1"
   ],
   "metadata": {
    "collapsed": false,
    "pycharm": {
     "name": "#%% md\n"
    }
   }
  },
  {
   "cell_type": "code",
   "execution_count": 85,
   "outputs": [
    {
     "data": {
      "text/plain": "<IPython.core.display.HTML object>",
      "text/html": "<h1>Loading data.csv into Dataframe and describing the DF</h1>"
     },
     "metadata": {},
     "output_type": "display_data"
    },
    {
     "data": {
      "text/plain": "         Duration       Pulse    Maxpulse     Calories\ncount  169.000000  169.000000  169.000000   164.000000\nmean    63.846154  107.461538  134.047337   375.790244\nstd     42.299949   14.510259   16.450434   266.379919\nmin     15.000000   80.000000  100.000000    50.300000\n25%     45.000000  100.000000  124.000000   250.925000\n50%     60.000000  105.000000  131.000000   318.600000\n75%     60.000000  111.000000  141.000000   387.600000\nmax    300.000000  159.000000  184.000000  1860.400000",
      "text/html": "<div>\n<style scoped>\n    .dataframe tbody tr th:only-of-type {\n        vertical-align: middle;\n    }\n\n    .dataframe tbody tr th {\n        vertical-align: top;\n    }\n\n    .dataframe thead th {\n        text-align: right;\n    }\n</style>\n<table border=\"1\" class=\"dataframe\">\n  <thead>\n    <tr style=\"text-align: right;\">\n      <th></th>\n      <th>Duration</th>\n      <th>Pulse</th>\n      <th>Maxpulse</th>\n      <th>Calories</th>\n    </tr>\n  </thead>\n  <tbody>\n    <tr>\n      <th>count</th>\n      <td>169.000000</td>\n      <td>169.000000</td>\n      <td>169.000000</td>\n      <td>164.000000</td>\n    </tr>\n    <tr>\n      <th>mean</th>\n      <td>63.846154</td>\n      <td>107.461538</td>\n      <td>134.047337</td>\n      <td>375.790244</td>\n    </tr>\n    <tr>\n      <th>std</th>\n      <td>42.299949</td>\n      <td>14.510259</td>\n      <td>16.450434</td>\n      <td>266.379919</td>\n    </tr>\n    <tr>\n      <th>min</th>\n      <td>15.000000</td>\n      <td>80.000000</td>\n      <td>100.000000</td>\n      <td>50.300000</td>\n    </tr>\n    <tr>\n      <th>25%</th>\n      <td>45.000000</td>\n      <td>100.000000</td>\n      <td>124.000000</td>\n      <td>250.925000</td>\n    </tr>\n    <tr>\n      <th>50%</th>\n      <td>60.000000</td>\n      <td>105.000000</td>\n      <td>131.000000</td>\n      <td>318.600000</td>\n    </tr>\n    <tr>\n      <th>75%</th>\n      <td>60.000000</td>\n      <td>111.000000</td>\n      <td>141.000000</td>\n      <td>387.600000</td>\n    </tr>\n    <tr>\n      <th>max</th>\n      <td>300.000000</td>\n      <td>159.000000</td>\n      <td>184.000000</td>\n      <td>1860.400000</td>\n    </tr>\n  </tbody>\n</table>\n</div>"
     },
     "execution_count": 85,
     "metadata": {},
     "output_type": "execute_result"
    }
   ],
   "source": [
    "from IPython.display import HTML, display\n",
    "import pandas as pd\n",
    "from IPython.display import HTML, display\n",
    "\n",
    "display(HTML('<h1>Loading data.csv into Dataframe and describing the DF</h1>'))\n",
    "\n",
    "sample_df=pd.read_csv('data.csv')\n",
    "sample_df.describe()"
   ],
   "metadata": {
    "collapsed": false,
    "pycharm": {
     "name": "#%%\n"
    }
   }
  },
  {
   "cell_type": "code",
   "execution_count": 86,
   "id": "6c18051d",
   "metadata": {
    "scrolled": true,
    "pycharm": {
     "name": "#%%\n"
    }
   },
   "outputs": [
    {
     "data": {
      "text/plain": "<IPython.core.display.HTML object>",
      "text/html": "<h1> Checking for null values</h1>"
     },
     "metadata": {},
     "output_type": "display_data"
    },
    {
     "data": {
      "text/plain": "Duration    0\nPulse       0\nMaxpulse    0\nCalories    5\ndtype: int64"
     },
     "execution_count": 86,
     "metadata": {},
     "output_type": "execute_result"
    }
   ],
   "source": [
    "display(HTML('<h1> Checking for null values</h1>'))\n",
    "sample_df.isnull().sum()"
   ]
  },
  {
   "cell_type": "code",
   "execution_count": 87,
   "id": "f073ef99",
   "metadata": {
    "pycharm": {
     "name": "#%%\n"
    }
   },
   "outputs": [
    {
     "data": {
      "text/plain": "<IPython.core.display.HTML object>",
      "text/html": "<h1> Replacing Null values with mean</h1>"
     },
     "metadata": {},
     "output_type": "display_data"
    },
    {
     "name": "stdout",
     "output_type": "stream",
     "text": [
      "Checking the null count:\n"
     ]
    },
    {
     "data": {
      "text/plain": "0"
     },
     "execution_count": 87,
     "metadata": {},
     "output_type": "execute_result"
    }
   ],
   "source": [
    "display(HTML('<h1> Replacing Null values with mean</h1>'))\n",
    "sample_df['Calories'].fillna(sample_df['Calories'].mean(),inplace=True)\n",
    "print('Checking the null count:')\n",
    "sample_df['Calories'].isnull().sum()"
   ]
  },
  {
   "cell_type": "code",
   "execution_count": 32,
   "id": "88946467",
   "metadata": {
    "pycharm": {
     "name": "#%%\n"
    }
   },
   "outputs": [
    {
     "data": {
      "text/plain": "<IPython.core.display.HTML object>",
      "text/html": "<h1> Aggregating based on Pulse and Calories</h1>"
     },
     "metadata": {},
     "output_type": "display_data"
    },
    {
     "data": {
      "text/plain": "               Duration                 Maxpulse                  \n                    min max count  mean      min  max count   mean\nPulse Calories                                                    \n80    50.5           15  15     1  15.0      100  100     1  100.0\n      240.9          30  30     1  30.0      120  120     1  120.0\n83    50.3           20  20     1  20.0      107  107     1  107.0\n85    250.4          30  30     1  30.0      120  120     1  120.0\n90    86.2           30  30     1  30.0      120  120     1  120.0\n...                 ...  ..   ...   ...      ...  ...   ...    ...\n151   229.4          20  20     1  20.0      168  168     1  168.0\n      300.0          30  30     1  30.0      170  170     1  170.0\n152   244.2          25  25     1  25.0      168  168     1  168.0\n153   226.4          20  20     1  20.0      172  172     1  172.0\n159   319.2          30  30     1  30.0      182  182     1  182.0\n\n[160 rows x 8 columns]",
      "text/html": "<div>\n<style scoped>\n    .dataframe tbody tr th:only-of-type {\n        vertical-align: middle;\n    }\n\n    .dataframe tbody tr th {\n        vertical-align: top;\n    }\n\n    .dataframe thead tr th {\n        text-align: left;\n    }\n\n    .dataframe thead tr:last-of-type th {\n        text-align: right;\n    }\n</style>\n<table border=\"1\" class=\"dataframe\">\n  <thead>\n    <tr>\n      <th></th>\n      <th></th>\n      <th colspan=\"4\" halign=\"left\">Duration</th>\n      <th colspan=\"4\" halign=\"left\">Maxpulse</th>\n    </tr>\n    <tr>\n      <th></th>\n      <th></th>\n      <th>min</th>\n      <th>max</th>\n      <th>count</th>\n      <th>mean</th>\n      <th>min</th>\n      <th>max</th>\n      <th>count</th>\n      <th>mean</th>\n    </tr>\n    <tr>\n      <th>Pulse</th>\n      <th>Calories</th>\n      <th></th>\n      <th></th>\n      <th></th>\n      <th></th>\n      <th></th>\n      <th></th>\n      <th></th>\n      <th></th>\n    </tr>\n  </thead>\n  <tbody>\n    <tr>\n      <th rowspan=\"2\" valign=\"top\">80</th>\n      <th>50.5</th>\n      <td>15</td>\n      <td>15</td>\n      <td>1</td>\n      <td>15.0</td>\n      <td>100</td>\n      <td>100</td>\n      <td>1</td>\n      <td>100.0</td>\n    </tr>\n    <tr>\n      <th>240.9</th>\n      <td>30</td>\n      <td>30</td>\n      <td>1</td>\n      <td>30.0</td>\n      <td>120</td>\n      <td>120</td>\n      <td>1</td>\n      <td>120.0</td>\n    </tr>\n    <tr>\n      <th>83</th>\n      <th>50.3</th>\n      <td>20</td>\n      <td>20</td>\n      <td>1</td>\n      <td>20.0</td>\n      <td>107</td>\n      <td>107</td>\n      <td>1</td>\n      <td>107.0</td>\n    </tr>\n    <tr>\n      <th>85</th>\n      <th>250.4</th>\n      <td>30</td>\n      <td>30</td>\n      <td>1</td>\n      <td>30.0</td>\n      <td>120</td>\n      <td>120</td>\n      <td>1</td>\n      <td>120.0</td>\n    </tr>\n    <tr>\n      <th>90</th>\n      <th>86.2</th>\n      <td>30</td>\n      <td>30</td>\n      <td>1</td>\n      <td>30.0</td>\n      <td>120</td>\n      <td>120</td>\n      <td>1</td>\n      <td>120.0</td>\n    </tr>\n    <tr>\n      <th>...</th>\n      <th>...</th>\n      <td>...</td>\n      <td>...</td>\n      <td>...</td>\n      <td>...</td>\n      <td>...</td>\n      <td>...</td>\n      <td>...</td>\n      <td>...</td>\n    </tr>\n    <tr>\n      <th rowspan=\"2\" valign=\"top\">151</th>\n      <th>229.4</th>\n      <td>20</td>\n      <td>20</td>\n      <td>1</td>\n      <td>20.0</td>\n      <td>168</td>\n      <td>168</td>\n      <td>1</td>\n      <td>168.0</td>\n    </tr>\n    <tr>\n      <th>300.0</th>\n      <td>30</td>\n      <td>30</td>\n      <td>1</td>\n      <td>30.0</td>\n      <td>170</td>\n      <td>170</td>\n      <td>1</td>\n      <td>170.0</td>\n    </tr>\n    <tr>\n      <th>152</th>\n      <th>244.2</th>\n      <td>25</td>\n      <td>25</td>\n      <td>1</td>\n      <td>25.0</td>\n      <td>168</td>\n      <td>168</td>\n      <td>1</td>\n      <td>168.0</td>\n    </tr>\n    <tr>\n      <th>153</th>\n      <th>226.4</th>\n      <td>20</td>\n      <td>20</td>\n      <td>1</td>\n      <td>20.0</td>\n      <td>172</td>\n      <td>172</td>\n      <td>1</td>\n      <td>172.0</td>\n    </tr>\n    <tr>\n      <th>159</th>\n      <th>319.2</th>\n      <td>30</td>\n      <td>30</td>\n      <td>1</td>\n      <td>30.0</td>\n      <td>182</td>\n      <td>182</td>\n      <td>1</td>\n      <td>182.0</td>\n    </tr>\n  </tbody>\n</table>\n<p>160 rows × 8 columns</p>\n</div>"
     },
     "execution_count": 32,
     "metadata": {},
     "output_type": "execute_result"
    }
   ],
   "source": [
    "display(HTML('<h1> Aggregating based on Pulse and Calories</h1>'))\n",
    "sample_df.groupby(['Pulse','Calories']).agg({'Duration':['min','max','count','mean'],'Maxpulse':['min','max','count','mean']})"
   ]
  },
  {
   "cell_type": "markdown",
   "source": [],
   "metadata": {
    "collapsed": false,
    "pycharm": {
     "name": "#%% md\n"
    }
   }
  },
  {
   "cell_type": "markdown",
   "source": [],
   "metadata": {
    "collapsed": false,
    "pycharm": {
     "name": "#%% md\n"
    }
   }
  },
  {
   "cell_type": "code",
   "execution_count": 34,
   "id": "2e23b7c2",
   "metadata": {
    "scrolled": true,
    "pycharm": {
     "name": "#%%\n"
    }
   },
   "outputs": [
    {
     "data": {
      "text/plain": "<IPython.core.display.HTML object>",
      "text/html": "<h1> Filtering Calories</h1>"
     },
     "metadata": {},
     "output_type": "display_data"
    },
    {
     "data": {
      "text/plain": "     Duration  Pulse  Maxpulse  Calories\n51         80    123       146     643.1\n62        160    109       135     853.0\n65        180     90       130     800.4\n66        150    105       135     873.4\n67        150    107       130     816.0\n72         90    100       127     700.0\n73        150     97       127     953.2\n75         90     98       125     563.2\n78        120    100       130     500.4\n90        180    101       127     600.1\n99         90     93       124     604.1\n103        90     90       100     500.4\n106       180     90       120     800.3\n108        90     90       120     500.3",
      "text/html": "<div>\n<style scoped>\n    .dataframe tbody tr th:only-of-type {\n        vertical-align: middle;\n    }\n\n    .dataframe tbody tr th {\n        vertical-align: top;\n    }\n\n    .dataframe thead th {\n        text-align: right;\n    }\n</style>\n<table border=\"1\" class=\"dataframe\">\n  <thead>\n    <tr style=\"text-align: right;\">\n      <th></th>\n      <th>Duration</th>\n      <th>Pulse</th>\n      <th>Maxpulse</th>\n      <th>Calories</th>\n    </tr>\n  </thead>\n  <tbody>\n    <tr>\n      <th>51</th>\n      <td>80</td>\n      <td>123</td>\n      <td>146</td>\n      <td>643.1</td>\n    </tr>\n    <tr>\n      <th>62</th>\n      <td>160</td>\n      <td>109</td>\n      <td>135</td>\n      <td>853.0</td>\n    </tr>\n    <tr>\n      <th>65</th>\n      <td>180</td>\n      <td>90</td>\n      <td>130</td>\n      <td>800.4</td>\n    </tr>\n    <tr>\n      <th>66</th>\n      <td>150</td>\n      <td>105</td>\n      <td>135</td>\n      <td>873.4</td>\n    </tr>\n    <tr>\n      <th>67</th>\n      <td>150</td>\n      <td>107</td>\n      <td>130</td>\n      <td>816.0</td>\n    </tr>\n    <tr>\n      <th>72</th>\n      <td>90</td>\n      <td>100</td>\n      <td>127</td>\n      <td>700.0</td>\n    </tr>\n    <tr>\n      <th>73</th>\n      <td>150</td>\n      <td>97</td>\n      <td>127</td>\n      <td>953.2</td>\n    </tr>\n    <tr>\n      <th>75</th>\n      <td>90</td>\n      <td>98</td>\n      <td>125</td>\n      <td>563.2</td>\n    </tr>\n    <tr>\n      <th>78</th>\n      <td>120</td>\n      <td>100</td>\n      <td>130</td>\n      <td>500.4</td>\n    </tr>\n    <tr>\n      <th>90</th>\n      <td>180</td>\n      <td>101</td>\n      <td>127</td>\n      <td>600.1</td>\n    </tr>\n    <tr>\n      <th>99</th>\n      <td>90</td>\n      <td>93</td>\n      <td>124</td>\n      <td>604.1</td>\n    </tr>\n    <tr>\n      <th>103</th>\n      <td>90</td>\n      <td>90</td>\n      <td>100</td>\n      <td>500.4</td>\n    </tr>\n    <tr>\n      <th>106</th>\n      <td>180</td>\n      <td>90</td>\n      <td>120</td>\n      <td>800.3</td>\n    </tr>\n    <tr>\n      <th>108</th>\n      <td>90</td>\n      <td>90</td>\n      <td>120</td>\n      <td>500.3</td>\n    </tr>\n  </tbody>\n</table>\n</div>"
     },
     "execution_count": 34,
     "metadata": {},
     "output_type": "execute_result"
    }
   ],
   "source": [
    "display(HTML('<h1> Filtering Calories</h1>'))\n",
    "sample_df[((sample_df['Calories'] > 500) & (sample_df['Calories'] <= 1000))]\n"
   ]
  },
  {
   "cell_type": "code",
   "execution_count": 33,
   "id": "a03eed9b",
   "metadata": {
    "pycharm": {
     "name": "#%%\n"
    }
   },
   "outputs": [
    {
     "data": {
      "text/plain": "<IPython.core.display.HTML object>",
      "text/html": "<h1> Filtering Calories and Pulse</h1>"
     },
     "metadata": {},
     "output_type": "display_data"
    },
    {
     "data": {
      "text/plain": "     Duration  Pulse  Maxpulse  Calories\n65        180     90       130     800.4\n70        150     97       129    1115.0\n72         90    100       127     700.0\n73        150     97       127     953.2\n75         90     98       125     563.2\n78        120    100       130     500.4\n79        270    100       131    1729.0\n87        120    100       157    1000.1\n99         90     93       124     604.1\n103        90     90       100     500.4\n106       180     90       120     800.3\n108        90     90       120     500.3",
      "text/html": "<div>\n<style scoped>\n    .dataframe tbody tr th:only-of-type {\n        vertical-align: middle;\n    }\n\n    .dataframe tbody tr th {\n        vertical-align: top;\n    }\n\n    .dataframe thead th {\n        text-align: right;\n    }\n</style>\n<table border=\"1\" class=\"dataframe\">\n  <thead>\n    <tr style=\"text-align: right;\">\n      <th></th>\n      <th>Duration</th>\n      <th>Pulse</th>\n      <th>Maxpulse</th>\n      <th>Calories</th>\n    </tr>\n  </thead>\n  <tbody>\n    <tr>\n      <th>65</th>\n      <td>180</td>\n      <td>90</td>\n      <td>130</td>\n      <td>800.4</td>\n    </tr>\n    <tr>\n      <th>70</th>\n      <td>150</td>\n      <td>97</td>\n      <td>129</td>\n      <td>1115.0</td>\n    </tr>\n    <tr>\n      <th>72</th>\n      <td>90</td>\n      <td>100</td>\n      <td>127</td>\n      <td>700.0</td>\n    </tr>\n    <tr>\n      <th>73</th>\n      <td>150</td>\n      <td>97</td>\n      <td>127</td>\n      <td>953.2</td>\n    </tr>\n    <tr>\n      <th>75</th>\n      <td>90</td>\n      <td>98</td>\n      <td>125</td>\n      <td>563.2</td>\n    </tr>\n    <tr>\n      <th>78</th>\n      <td>120</td>\n      <td>100</td>\n      <td>130</td>\n      <td>500.4</td>\n    </tr>\n    <tr>\n      <th>79</th>\n      <td>270</td>\n      <td>100</td>\n      <td>131</td>\n      <td>1729.0</td>\n    </tr>\n    <tr>\n      <th>87</th>\n      <td>120</td>\n      <td>100</td>\n      <td>157</td>\n      <td>1000.1</td>\n    </tr>\n    <tr>\n      <th>99</th>\n      <td>90</td>\n      <td>93</td>\n      <td>124</td>\n      <td>604.1</td>\n    </tr>\n    <tr>\n      <th>103</th>\n      <td>90</td>\n      <td>90</td>\n      <td>100</td>\n      <td>500.4</td>\n    </tr>\n    <tr>\n      <th>106</th>\n      <td>180</td>\n      <td>90</td>\n      <td>120</td>\n      <td>800.3</td>\n    </tr>\n    <tr>\n      <th>108</th>\n      <td>90</td>\n      <td>90</td>\n      <td>120</td>\n      <td>500.3</td>\n    </tr>\n  </tbody>\n</table>\n</div>"
     },
     "execution_count": 33,
     "metadata": {},
     "output_type": "execute_result"
    }
   ],
   "source": [
    "display(HTML('<h1> Filtering Calories and Pulse</h1>'))\n",
    "sample_df[(sample_df['Calories'] > 500) & (sample_df['Pulse'] <= 100)]"
   ]
  },
  {
   "cell_type": "code",
   "execution_count": 35,
   "id": "e4ce7274",
   "metadata": {
    "pycharm": {
     "name": "#%%\n"
    }
   },
   "outputs": [
    {
     "data": {
      "text/plain": "<IPython.core.display.HTML object>",
      "text/html": "<h1> Dropping Maxpulse from DF to create df_modified</h1>"
     },
     "metadata": {},
     "output_type": "display_data"
    },
    {
     "data": {
      "text/plain": "     Duration  Pulse  Calories\n0          60    110     409.1\n1          60    117     479.0\n2          60    103     340.0\n3          45    109     282.4\n4          45    117     406.0\n..        ...    ...       ...\n164        60    105     290.8\n165        60    110     300.0\n166        60    115     310.2\n167        75    120     320.4\n168        75    125     330.4\n\n[169 rows x 3 columns]",
      "text/html": "<div>\n<style scoped>\n    .dataframe tbody tr th:only-of-type {\n        vertical-align: middle;\n    }\n\n    .dataframe tbody tr th {\n        vertical-align: top;\n    }\n\n    .dataframe thead th {\n        text-align: right;\n    }\n</style>\n<table border=\"1\" class=\"dataframe\">\n  <thead>\n    <tr style=\"text-align: right;\">\n      <th></th>\n      <th>Duration</th>\n      <th>Pulse</th>\n      <th>Calories</th>\n    </tr>\n  </thead>\n  <tbody>\n    <tr>\n      <th>0</th>\n      <td>60</td>\n      <td>110</td>\n      <td>409.1</td>\n    </tr>\n    <tr>\n      <th>1</th>\n      <td>60</td>\n      <td>117</td>\n      <td>479.0</td>\n    </tr>\n    <tr>\n      <th>2</th>\n      <td>60</td>\n      <td>103</td>\n      <td>340.0</td>\n    </tr>\n    <tr>\n      <th>3</th>\n      <td>45</td>\n      <td>109</td>\n      <td>282.4</td>\n    </tr>\n    <tr>\n      <th>4</th>\n      <td>45</td>\n      <td>117</td>\n      <td>406.0</td>\n    </tr>\n    <tr>\n      <th>...</th>\n      <td>...</td>\n      <td>...</td>\n      <td>...</td>\n    </tr>\n    <tr>\n      <th>164</th>\n      <td>60</td>\n      <td>105</td>\n      <td>290.8</td>\n    </tr>\n    <tr>\n      <th>165</th>\n      <td>60</td>\n      <td>110</td>\n      <td>300.0</td>\n    </tr>\n    <tr>\n      <th>166</th>\n      <td>60</td>\n      <td>115</td>\n      <td>310.2</td>\n    </tr>\n    <tr>\n      <th>167</th>\n      <td>75</td>\n      <td>120</td>\n      <td>320.4</td>\n    </tr>\n    <tr>\n      <th>168</th>\n      <td>75</td>\n      <td>125</td>\n      <td>330.4</td>\n    </tr>\n  </tbody>\n</table>\n<p>169 rows × 3 columns</p>\n</div>"
     },
     "execution_count": 35,
     "metadata": {},
     "output_type": "execute_result"
    }
   ],
   "source": [
    "display(HTML('<h1> Dropping Maxpulse from DF to create df_modified</h1>'))\n",
    "df_modified=sample_df.drop('Maxpulse', axis=1)\n",
    "df_modified"
   ]
  },
  {
   "cell_type": "code",
   "execution_count": 36,
   "id": "90438f16",
   "metadata": {
    "pycharm": {
     "name": "#%%\n"
    }
   },
   "outputs": [
    {
     "data": {
      "text/plain": "<IPython.core.display.HTML object>",
      "text/html": "<h1>Changing the Colories Dtype</h1>"
     },
     "metadata": {},
     "output_type": "display_data"
    },
    {
     "data": {
      "text/plain": "dtype('int32')"
     },
     "execution_count": 36,
     "metadata": {},
     "output_type": "execute_result"
    }
   ],
   "source": [
    "display(HTML('<h1>Changing the Colories Dtype</h1>'))\n",
    "df_modified['Calories']=df_modified['Calories'].astype(int)\n",
    "df_modified['Calories'].dtype\n"
   ]
  },
  {
   "cell_type": "code",
   "execution_count": 37,
   "id": "f317dcef",
   "metadata": {
    "scrolled": true,
    "pycharm": {
     "name": "#%%\n"
    }
   },
   "outputs": [
    {
     "data": {
      "text/plain": "<IPython.core.display.HTML object>",
      "text/html": "<h1> Plot with Duration in X-axis and Calories in y-axis</h1>"
     },
     "metadata": {},
     "output_type": "display_data"
    },
    {
     "data": {
      "text/plain": "<AxesSubplot: xlabel='Duration', ylabel='Calories'>"
     },
     "execution_count": 37,
     "metadata": {},
     "output_type": "execute_result"
    },
    {
     "data": {
      "text/plain": "<Figure size 640x480 with 1 Axes>",
      "image/png": "[encoded data removed]"
     },
     "metadata": {},
     "output_type": "display_data"
    }
   ],
   "source": [
    "display(HTML('<h1> Plot with Duration in X-axis and Calories in y-axis</h1>'))\n",
    "df_modified.plot.scatter(x='Duration',y='Calories')\n"
   ]
  },
  {
   "cell_type": "code",
   "execution_count": null,
   "id": "b24b6155",
   "metadata": {
    "pycharm": {
     "name": "#%%\n"
    }
   },
   "outputs": [],
   "source": []
  },
  {
   "cell_type": "code",
   "execution_count": 38,
   "id": "298de831",
   "metadata": {
    "pycharm": {
     "name": "#%%\n"
    }
   },
   "outputs": [
    {
     "data": {
      "text/plain": "<IPython.core.display.HTML object>",
      "text/html": "<h1>Reading and describing Salary_Data</h1>"
     },
     "metadata": {},
     "output_type": "display_data"
    },
    {
     "data": {
      "text/plain": "       YearsExperience         Salary\ncount        30.000000      30.000000\nmean          5.313333   76003.000000\nstd           2.837888   27414.429785\nmin           1.100000   37731.000000\n25%           3.200000   56720.750000\n50%           4.700000   65237.000000\n75%           7.700000  100544.750000\nmax          10.500000  122391.000000",
      "text/html": "<div>\n<style scoped>\n    .dataframe tbody tr th:only-of-type {\n        vertical-align: middle;\n    }\n\n    .dataframe tbody tr th {\n        vertical-align: top;\n    }\n\n    .dataframe thead th {\n        text-align: right;\n    }\n</style>\n<table border=\"1\" class=\"dataframe\">\n  <thead>\n    <tr style=\"text-align: right;\">\n      <th></th>\n      <th>YearsExperience</th>\n      <th>Salary</th>\n    </tr>\n  </thead>\n  <tbody>\n    <tr>\n      <th>count</th>\n      <td>30.000000</td>\n      <td>30.000000</td>\n    </tr>\n    <tr>\n      <th>mean</th>\n      <td>5.313333</td>\n      <td>76003.000000</td>\n    </tr>\n    <tr>\n      <th>std</th>\n      <td>2.837888</td>\n      <td>27414.429785</td>\n    </tr>\n    <tr>\n      <th>min</th>\n      <td>1.100000</td>\n      <td>37731.000000</td>\n    </tr>\n    <tr>\n      <th>25%</th>\n      <td>3.200000</td>\n      <td>56720.750000</td>\n    </tr>\n    <tr>\n      <th>50%</th>\n      <td>4.700000</td>\n      <td>65237.000000</td>\n    </tr>\n    <tr>\n      <th>75%</th>\n      <td>7.700000</td>\n      <td>100544.750000</td>\n    </tr>\n    <tr>\n      <th>max</th>\n      <td>10.500000</td>\n      <td>122391.000000</td>\n    </tr>\n  </tbody>\n</table>\n</div>"
     },
     "execution_count": 38,
     "metadata": {},
     "output_type": "execute_result"
    }
   ],
   "source": [
    "display(HTML('<h1>Reading and describing Salary_Data</h1>'))\n",
    "sdf=pd.read_csv('Salary_Data.csv')\n",
    "sdf.describe()"
   ]
  },
  {
   "cell_type": "code",
   "execution_count": 83,
   "id": "72fb49f7",
   "metadata": {
    "scrolled": true,
    "pycharm": {
     "name": "#%%\n"
    }
   },
   "outputs": [
    {
     "data": {
      "text/plain": "<IPython.core.display.HTML object>",
      "text/html": "<h1>Imports and Partitioning test data from data</h1>"
     },
     "metadata": {},
     "output_type": "display_data"
    },
    {
     "data": {
      "text/plain": "array([[ 9.6],\n       [ 2.2],\n       [ 3.7],\n       [10.3],\n       [ 8.7],\n       [ 6. ],\n       [ 4.5],\n       [ 1.3],\n       [ 9. ],\n       [ 4.1],\n       [ 7.9],\n       [ 7.1],\n       [ 5.3],\n       [ 6.8],\n       [ 5.9],\n       [ 3. ],\n       [ 4. ],\n       [10.5],\n       [ 4.9],\n       [ 2. ],\n       [ 2.9]])"
     },
     "execution_count": 83,
     "metadata": {},
     "output_type": "execute_result"
    }
   ],
   "source": [
    "display(HTML('<h1>Imports and Partitioning test data from data</h1>'))\n",
    "from sklearn.model_selection import train_test_split\n",
    "from sklearn.linear_model import LinearRegression\n",
    "import math\n",
    "from sklearn.metrics import mean_squared_error as ms\n",
    "import matplotlib.pyplot as plt\n",
    "\n",
    "x_train, x_test,y_train,y_test = train_test_split(sdf.iloc[:, :-1].values,sdf.iloc[:,1].values,test_size =0.3)\n",
    "x_train"
   ]
  },
  {
   "cell_type": "code",
   "execution_count": 73,
   "id": "787c306d",
   "metadata": {
    "pycharm": {
     "name": "#%%\n"
    }
   },
   "outputs": [
    {
     "data": {
      "text/plain": "<IPython.core.display.HTML object>",
      "text/html": "<h1>Fitting X and Y data into Linear Regression Model and calculated mean squared</h1>"
     },
     "metadata": {},
     "output_type": "display_data"
    },
    {
     "data": {
      "text/plain": "38447706.21555474"
     },
     "execution_count": 73,
     "metadata": {},
     "output_type": "execute_result"
    }
   ],
   "source": [
    "display(HTML('<h1>Fitting X and Y data into Linear Regression Model and calculated mean squared</h1>'))\n",
    "m=LinearRegression()\n",
    "m.fit(x_train, y_train)\n",
    "y_pred=m.predict(x_test)\n",
    "ms(y_pred,y_test)"
   ]
  },
  {
   "cell_type": "code",
   "execution_count": 82,
   "id": "17737fab",
   "metadata": {
    "pycharm": {
     "name": "#%%\n"
    }
   },
   "outputs": [
    {
     "data": {
      "text/plain": "<IPython.core.display.HTML object>",
      "text/html": "<h1>Visualize the train data.</h1>"
     },
     "metadata": {},
     "output_type": "display_data"
    },
    {
     "data": {
      "text/plain": "<matplotlib.collections.PathCollection at 0x15d70ac0>"
     },
     "execution_count": 82,
     "metadata": {},
     "output_type": "execute_result"
    },
    {
     "data": {
      "text/plain": "<Figure size 640x480 with 1 Axes>",
      "image/png": "[encoded data removed]"
     },
     "metadata": {},
     "output_type": "display_data"
    }
   ],
   "source": [
    "display(HTML('<h1>Visualize the train data.</h1>'))\n",
    "plt.scatter(x_train,y_train)"
   ]
  },
  {
   "cell_type": "code",
   "execution_count": 81,
   "outputs": [
    {
     "data": {
      "text/plain": "<IPython.core.display.HTML object>",
      "text/html": "<h1>Visualize the test data.</h1>"
     },
     "metadata": {},
     "output_type": "display_data"
    },
    {
     "data": {
      "text/plain": "<matplotlib.collections.PathCollection at 0x1595f520>"
     },
     "execution_count": 81,
     "metadata": {},
     "output_type": "execute_result"
    },
    {
     "data": {
      "text/plain": "<Figure size 640x480 with 1 Axes>",
      "image/png": "[encoded data removed]"
     },
     "metadata": {},
     "output_type": "display_data"
    }
   ],
   "source": [
    "display(HTML('<h1>Visualize the test data.</h1>'))\n",
    "plt.scatter(x_test,y_test)"
   ],
   "metadata": {
    "collapsed": false,
    "pycharm": {
     "name": "#%%\n"
    }
   }
  }
 ],
 "metadata": {
  "kernelspec": {
   "display_name": "Python 3 (ipykernel)",
   "language": "python",
   "name": "python3"
  },
  "language_info": {
   "codemirror_mode": {
    "name": "ipython",
    "version": 3
   },
   "file_extension": ".py",
   "mimetype": "text/x-python",
   "name": "python",
   "nbconvert_exporter": "python",
   "pygments_lexer": "ipython3",
   "version": "3.9.13"
  }
 },
 "nbformat": 4,
 "nbformat_minor": 5
}